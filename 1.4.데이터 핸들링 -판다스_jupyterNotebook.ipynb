{
 "cells": [
  {
   "cell_type": "code",
   "execution_count": 1,
   "metadata": {},
   "outputs": [],
   "source": [
    "#### 판다스(Pandas) 개요와 기본 API - 01, 02\n",
    "### 판다스(Pandas) 개요와 기본 API - 01"
   ]
  },
  {
   "cell_type": "code",
   "execution_count": 2,
   "metadata": {},
   "outputs": [],
   "source": [
    "import pandas as pd"
   ]
  },
  {
   "cell_type": "code",
   "execution_count": 3,
   "metadata": {},
   "outputs": [],
   "source": [
    "# read_csv()\n",
    "# read_csv()를 이용하여 csv 파일을 편리하게 DataFrame으로 로딩한다.\n",
    "# read_csv()의 sep 인자를 콤마(,)가 아닌 다른 분리자로 변경하여\n",
    "# 다른 유형의 파일도 로드가 가능하다."
   ]
  },
  {
   "cell_type": "code",
   "execution_count": 4,
   "metadata": {},
   "outputs": [
    {
     "name": "stdout",
     "output_type": "stream",
     "text": [
      "titanic 변수 type:  <class 'pandas.core.frame.DataFrame'>\n"
     ]
    }
   ],
   "source": [
    "titanic_df = pd.read_csv('titanic_train.csv')\n",
    "print('titanic 변수 type: ', type(titanic_df))"
   ]
  },
  {
   "cell_type": "code",
   "execution_count": 5,
   "metadata": {},
   "outputs": [],
   "source": [
    "# titanic 변수 type:  <class 'pandas.core.frame.DataFrame'>\n",
    "# titanic_df는 이제 데이터 프레임이 됐다.\n",
    "\n",
    "# read_csv 함수가 csv라고 돼 있어서 csv 파일만 로딩할 거 같지만,\n",
    "# 다른 어떤 분리자도 가능하다.\n",
    "\n",
    "# 쥬피터 노트북에서 titanic_df = pd.read_csv('titanic_train.csv')에 shift+tab\n",
    "# 을 하면 함수 원형에 대한 설명이 뜬다.\n",
    "# sep가 기본이 콤마다.\n",
    "# csv는 자동으로 default로 로딩을 하게 된다.\n",
    "# tab이라면 pd.read_csv('titanic_train.tsv', sep='\\t') 이렇게 해 주면 된다.\n",
    "\n",
    "# 또 함수 원형 설며에 header = 'infer'라고 돼 있다.\n",
    "# csv 파일을 열어 보자.\n",
    "# 맨 위에 PassengerId,Survived,Pclass,Name,Sex,Age,SibSp,Parch,Ticket,Fare,Cabin,Embarked\n",
    "# 이렇게 컬럼 명이 들어가 있다.\n",
    "# 이 컬럼 명을 보고 유추를 해서 판다스의 컬럼 명을 만들겠다는 의미다.\n",
    "# 이것이 header = 'infer'의 의미다."
   ]
  },
  {
   "cell_type": "code",
   "execution_count": 6,
   "metadata": {},
   "outputs": [],
   "source": [
    "### # 판다스(Pandas) 개요와 기본 API - 02\n",
    "# head()\n",
    "# DataFrame의 맨 앞 일부 데이터만 추출한다.\n",
    "# 지난 시간에 read_csv() 써서 titanic_df라는 DataFrame을 만들었다."
   ]
  },
  {
   "cell_type": "code",
   "execution_count": 7,
   "metadata": {},
   "outputs": [],
   "source": [
    "# titanic_df의 앞의 다섯 개만 보고 싶다."
   ]
  },
  {
   "cell_type": "code",
   "execution_count": 8,
   "metadata": {},
   "outputs": [],
   "source": [
    "# default가 5이므로 titanic_df.head()로 해도 된다."
   ]
  },
  {
   "cell_type": "code",
   "execution_count": 9,
   "metadata": {},
   "outputs": [
    {
     "data": {
      "text/html": [
       "<div>\n",
       "<style scoped>\n",
       "    .dataframe tbody tr th:only-of-type {\n",
       "        vertical-align: middle;\n",
       "    }\n",
       "\n",
       "    .dataframe tbody tr th {\n",
       "        vertical-align: top;\n",
       "    }\n",
       "\n",
       "    .dataframe thead th {\n",
       "        text-align: right;\n",
       "    }\n",
       "</style>\n",
       "<table border=\"1\" class=\"dataframe\">\n",
       "  <thead>\n",
       "    <tr style=\"text-align: right;\">\n",
       "      <th></th>\n",
       "      <th>PassengerId</th>\n",
       "      <th>Survived</th>\n",
       "      <th>Pclass</th>\n",
       "      <th>Name</th>\n",
       "      <th>Sex</th>\n",
       "      <th>Age</th>\n",
       "      <th>SibSp</th>\n",
       "      <th>Parch</th>\n",
       "      <th>Ticket</th>\n",
       "      <th>Fare</th>\n",
       "      <th>Cabin</th>\n",
       "      <th>Embarked</th>\n",
       "    </tr>\n",
       "  </thead>\n",
       "  <tbody>\n",
       "    <tr>\n",
       "      <th>0</th>\n",
       "      <td>1</td>\n",
       "      <td>0</td>\n",
       "      <td>3</td>\n",
       "      <td>Braund, Mr. Owen Harris</td>\n",
       "      <td>male</td>\n",
       "      <td>22.0</td>\n",
       "      <td>1</td>\n",
       "      <td>0</td>\n",
       "      <td>A/5 21171</td>\n",
       "      <td>7.2500</td>\n",
       "      <td>NaN</td>\n",
       "      <td>S</td>\n",
       "    </tr>\n",
       "    <tr>\n",
       "      <th>1</th>\n",
       "      <td>2</td>\n",
       "      <td>1</td>\n",
       "      <td>1</td>\n",
       "      <td>Cumings, Mrs. John Bradley (Florence Briggs Th...</td>\n",
       "      <td>female</td>\n",
       "      <td>38.0</td>\n",
       "      <td>1</td>\n",
       "      <td>0</td>\n",
       "      <td>PC 17599</td>\n",
       "      <td>71.2833</td>\n",
       "      <td>C85</td>\n",
       "      <td>C</td>\n",
       "    </tr>\n",
       "    <tr>\n",
       "      <th>2</th>\n",
       "      <td>3</td>\n",
       "      <td>1</td>\n",
       "      <td>3</td>\n",
       "      <td>Heikkinen, Miss. Laina</td>\n",
       "      <td>female</td>\n",
       "      <td>26.0</td>\n",
       "      <td>0</td>\n",
       "      <td>0</td>\n",
       "      <td>STON/O2. 3101282</td>\n",
       "      <td>7.9250</td>\n",
       "      <td>NaN</td>\n",
       "      <td>S</td>\n",
       "    </tr>\n",
       "    <tr>\n",
       "      <th>3</th>\n",
       "      <td>4</td>\n",
       "      <td>1</td>\n",
       "      <td>1</td>\n",
       "      <td>Futrelle, Mrs. Jacques Heath (Lily May Peel)</td>\n",
       "      <td>female</td>\n",
       "      <td>35.0</td>\n",
       "      <td>1</td>\n",
       "      <td>0</td>\n",
       "      <td>113803</td>\n",
       "      <td>53.1000</td>\n",
       "      <td>C123</td>\n",
       "      <td>S</td>\n",
       "    </tr>\n",
       "    <tr>\n",
       "      <th>4</th>\n",
       "      <td>5</td>\n",
       "      <td>0</td>\n",
       "      <td>3</td>\n",
       "      <td>Allen, Mr. William Henry</td>\n",
       "      <td>male</td>\n",
       "      <td>35.0</td>\n",
       "      <td>0</td>\n",
       "      <td>0</td>\n",
       "      <td>373450</td>\n",
       "      <td>8.0500</td>\n",
       "      <td>NaN</td>\n",
       "      <td>S</td>\n",
       "    </tr>\n",
       "  </tbody>\n",
       "</table>\n",
       "</div>"
      ],
      "text/plain": [
       "   PassengerId  Survived  Pclass  \\\n",
       "0            1         0       3   \n",
       "1            2         1       1   \n",
       "2            3         1       3   \n",
       "3            4         1       1   \n",
       "4            5         0       3   \n",
       "\n",
       "                                                Name     Sex   Age  SibSp  \\\n",
       "0                            Braund, Mr. Owen Harris    male  22.0      1   \n",
       "1  Cumings, Mrs. John Bradley (Florence Briggs Th...  female  38.0      1   \n",
       "2                             Heikkinen, Miss. Laina  female  26.0      0   \n",
       "3       Futrelle, Mrs. Jacques Heath (Lily May Peel)  female  35.0      1   \n",
       "4                           Allen, Mr. William Henry    male  35.0      0   \n",
       "\n",
       "   Parch            Ticket     Fare Cabin Embarked  \n",
       "0      0         A/5 21171   7.2500   NaN        S  \n",
       "1      0          PC 17599  71.2833   C85        C  \n",
       "2      0  STON/O2. 3101282   7.9250   NaN        S  \n",
       "3      0            113803  53.1000  C123        S  \n",
       "4      0            373450   8.0500   NaN        S  "
      ]
     },
     "execution_count": 9,
     "metadata": {},
     "output_type": "execute_result"
    }
   ],
   "source": [
    "titanic_df.head(5)"
   ]
  },
  {
   "cell_type": "code",
   "execution_count": 10,
   "metadata": {},
   "outputs": [],
   "source": [
    "# 데이터 프레임은 컬럼을 가지고 있다.\n",
    "# 0, 1, 2, 3, 4는 컬럼명이 없다. index다.\n",
    "# rdms에 익숙한 사람이 보면 아, 이것도 컬럼명이 있겠군, 하지만 없다.\n",
    "# index는 순순하게 유일한 값만을 나타낸다.\n",
    "# rdms 했던 사람이 이해를 쉽게 하려면, pk보다는 row num이나 row id 정도로\n",
    "# 생각하면 된다. pk라고 논리적으로 생각하는 게 더 정확하긴 하다.\n",
    "# 단지 index는 컬럼명이 할당돼 있지 않고 물리적으로 값을 가지고 있다.\n",
    "# 판다스는 데이터 프레임이 기본적으로 numpy의 ndarray로 만들어져 있다.\n",
    "# 전부다 ndarray다. 위 배열이 다 ndarray다. \n",
    "# 위 컬럼 값도 ndarray로 되어 있다(PassengerId\tSurvived\tPclass\tName\tSex\tAge\tSibSp\tParch\tTicket\tFare\tCabin\tEmbarked)\n",
    "# index도 ndarray로 돼 있고, 위에 있는 값이 모두 배열로 돼 있다.  "
   ]
  },
  {
   "cell_type": "code",
   "execution_count": 11,
   "metadata": {},
   "outputs": [],
   "source": [
    "# 아래와 같이 수동으로 데이터를 입력했을 때, 가장 쉽게 할 수 있는 것이 딕셔너리를 Dataframe으로 바꾸는 것이다. \n",
    "# 아래 딕셔너리의 key 값이 뭐가 될까? 바로 컬럼 명이 된다. dic1의 Name, Year, Gender\n",
    "# Name, 이 키 값이 여러 개의 리스트를 가지고 있으면, 이게 바로 그 컬럼의 value가 되는 것이다. \n",
    "# 단, 리스트 안에 들어가 있는 원소는 동일한 형태라야 한다. "
   ]
  },
  {
   "cell_type": "code",
   "execution_count": 12,
   "metadata": {},
   "outputs": [
    {
     "name": "stdout",
     "output_type": "stream",
     "text": [
      "       Name  Year  Gender\n",
      "0   Chulmin  2011    Male\n",
      "1  Eunkyung  2016  Female\n",
      "2  Jinwoong  2015    Male\n",
      "3   Soobeom  2015    Male\n",
      "##############################\n",
      "       Name  Year  Gender  Age\n",
      "0   Chulmin  2011    Male  NaN\n",
      "1  Eunkyung  2016  Female  NaN\n",
      "2  Jinwoong  2015    Male  NaN\n",
      "3   Soobeom  2015    Male  NaN\n",
      "##############################\n",
      "           Name  Year  Gender\n",
      "one     Chulmin  2011    Male\n",
      "two    Eunkyung  2016  Female\n",
      "three  Jinwoong  2015    Male\n",
      "four    Soobeom  2015    Male\n",
      "##############################\n"
     ]
    }
   ],
   "source": [
    "dic1 = {'Name': ['Chulmin', 'Eunkyung','Jinwoong','Soobeom'],\n",
    "        'Year': [2011, 2016, 2015, 2015],\n",
    "        'Gender': ['Male', 'Female', 'Male', 'Male']\n",
    "       }\n",
    "# 딕셔너리를 DataFrame으로 변환\n",
    "data_df = pd.DataFrame(dic1)    # DataFrame 이 객체의 생성자로 dic1을 입력만 해 주면 된다. 그러면 키가 컬럼명으로 바뀐다. \n",
    "                                # 그리고 나머지 값들이 그 컬럼명에 value로 들어가게 된다\n",
    "print(data_df)\n",
    "print(\"#\"*30)\n",
    " \n",
    "# 새로운 컬럼명을 추가\n",
    "data_df = pd.DataFrame(dic1, columns=[\"Name\", \"Year\", \"Gender\", \"Age\"])    # columns라는 인자에 리스트를 넣어주면 된다. <-추가\n",
    "print(data_df)\n",
    "print(\"#\"*30)\n",
    "\n",
    "# 인덱스를 새로운 값으로 할당. \n",
    "data_df = pd.DataFrame(dic1, index=['one','two','three','four'])    # index는 default로 0, 1, 2와 같이 숫자로 생기지만, \n",
    "print(data_df)\n",
    "print(\"#\"*30)"
   ]
  },
  {
   "cell_type": "code",
   "execution_count": 13,
   "metadata": {},
   "outputs": [],
   "source": [
    "# 원래 인덱스는 default로 순차적으로 0, 1, 2 이런 식으로 생기지만, 'one', 'two', 'three'와 같이 문자형으로 넣어 줄 수도 있다. \n",
    "# 위 결과를 보면, 첫 번째는 컬럼이 Name, Year, Gender\n",
    "# 두 번째는 Age라는 컬럼이 추가됐지만, 거기에 맵핑되는 데이터가 아무 것도 없기 때문에, 값은 NaN으로 초기화가 되었다. \n",
    "# 지금까지 index는 range 형 인덱스 즉, 숫자 0으로 시작해서 순차적으로 증가하는 형태였으나 'one', 'two', 'three'와 같이\n",
    "# 지정된 문자 index 값이 지정이 된다. "
   ]
  },
  {
   "cell_type": "code",
   "execution_count": 14,
   "metadata": {},
   "outputs": [],
   "source": [
    "### DataFrame의 컬럼명과 인덱스"
   ]
  },
  {
   "cell_type": "code",
   "execution_count": 15,
   "metadata": {},
   "outputs": [
    {
     "name": "stdout",
     "output_type": "stream",
     "text": [
      "columns:  Index(['PassengerId', 'Survived', 'Pclass', 'Name', 'Sex', 'Age', 'SibSp',\n",
      "       'Parch', 'Ticket', 'Fare', 'Cabin', 'Embarked'],\n",
      "      dtype='object')\n"
     ]
    }
   ],
   "source": [
    "print('columns: ', titanic_df.columns)            # columns 출력"
   ]
  },
  {
   "cell_type": "code",
   "execution_count": 16,
   "metadata": {},
   "outputs": [],
   "source": [
    "# 위에서와 같이 컬럼명이 index 형태로 출력이 된다. "
   ]
  },
  {
   "cell_type": "code",
   "execution_count": 17,
   "metadata": {},
   "outputs": [
    {
     "name": "stdout",
     "output_type": "stream",
     "text": [
      "index:  RangeIndex(start=0, stop=891, step=1)\n"
     ]
    }
   ],
   "source": [
    "print('index: ', titanic_df.index)                # index 속성에 접속을 하면, index 값이 나오는 게 아니고, 그 index 객체가 반환됨."
   ]
  },
  {
   "cell_type": "code",
   "execution_count": 18,
   "metadata": {},
   "outputs": [],
   "source": [
    "# index는 rangeIndex로, 0부터 시작해서 순차적으로 증가한다. "
   ]
  },
  {
   "cell_type": "code",
   "execution_count": 19,
   "metadata": {},
   "outputs": [
    {
     "name": "stdout",
     "output_type": "stream",
     "text": [
      "index value:  [  0   1   2   3   4   5   6   7   8   9  10  11  12  13  14  15  16  17\n",
      "  18  19  20  21  22  23  24  25  26  27  28  29  30  31  32  33  34  35\n",
      "  36  37  38  39  40  41  42  43  44  45  46  47  48  49  50  51  52  53\n",
      "  54  55  56  57  58  59  60  61  62  63  64  65  66  67  68  69  70  71\n",
      "  72  73  74  75  76  77  78  79  80  81  82  83  84  85  86  87  88  89\n",
      "  90  91  92  93  94  95  96  97  98  99 100 101 102 103 104 105 106 107\n",
      " 108 109 110 111 112 113 114 115 116 117 118 119 120 121 122 123 124 125\n",
      " 126 127 128 129 130 131 132 133 134 135 136 137 138 139 140 141 142 143\n",
      " 144 145 146 147 148 149 150 151 152 153 154 155 156 157 158 159 160 161\n",
      " 162 163 164 165 166 167 168 169 170 171 172 173 174 175 176 177 178 179\n",
      " 180 181 182 183 184 185 186 187 188 189 190 191 192 193 194 195 196 197\n",
      " 198 199 200 201 202 203 204 205 206 207 208 209 210 211 212 213 214 215\n",
      " 216 217 218 219 220 221 222 223 224 225 226 227 228 229 230 231 232 233\n",
      " 234 235 236 237 238 239 240 241 242 243 244 245 246 247 248 249 250 251\n",
      " 252 253 254 255 256 257 258 259 260 261 262 263 264 265 266 267 268 269\n",
      " 270 271 272 273 274 275 276 277 278 279 280 281 282 283 284 285 286 287\n",
      " 288 289 290 291 292 293 294 295 296 297 298 299 300 301 302 303 304 305\n",
      " 306 307 308 309 310 311 312 313 314 315 316 317 318 319 320 321 322 323\n",
      " 324 325 326 327 328 329 330 331 332 333 334 335 336 337 338 339 340 341\n",
      " 342 343 344 345 346 347 348 349 350 351 352 353 354 355 356 357 358 359\n",
      " 360 361 362 363 364 365 366 367 368 369 370 371 372 373 374 375 376 377\n",
      " 378 379 380 381 382 383 384 385 386 387 388 389 390 391 392 393 394 395\n",
      " 396 397 398 399 400 401 402 403 404 405 406 407 408 409 410 411 412 413\n",
      " 414 415 416 417 418 419 420 421 422 423 424 425 426 427 428 429 430 431\n",
      " 432 433 434 435 436 437 438 439 440 441 442 443 444 445 446 447 448 449\n",
      " 450 451 452 453 454 455 456 457 458 459 460 461 462 463 464 465 466 467\n",
      " 468 469 470 471 472 473 474 475 476 477 478 479 480 481 482 483 484 485\n",
      " 486 487 488 489 490 491 492 493 494 495 496 497 498 499 500 501 502 503\n",
      " 504 505 506 507 508 509 510 511 512 513 514 515 516 517 518 519 520 521\n",
      " 522 523 524 525 526 527 528 529 530 531 532 533 534 535 536 537 538 539\n",
      " 540 541 542 543 544 545 546 547 548 549 550 551 552 553 554 555 556 557\n",
      " 558 559 560 561 562 563 564 565 566 567 568 569 570 571 572 573 574 575\n",
      " 576 577 578 579 580 581 582 583 584 585 586 587 588 589 590 591 592 593\n",
      " 594 595 596 597 598 599 600 601 602 603 604 605 606 607 608 609 610 611\n",
      " 612 613 614 615 616 617 618 619 620 621 622 623 624 625 626 627 628 629\n",
      " 630 631 632 633 634 635 636 637 638 639 640 641 642 643 644 645 646 647\n",
      " 648 649 650 651 652 653 654 655 656 657 658 659 660 661 662 663 664 665\n",
      " 666 667 668 669 670 671 672 673 674 675 676 677 678 679 680 681 682 683\n",
      " 684 685 686 687 688 689 690 691 692 693 694 695 696 697 698 699 700 701\n",
      " 702 703 704 705 706 707 708 709 710 711 712 713 714 715 716 717 718 719\n",
      " 720 721 722 723 724 725 726 727 728 729 730 731 732 733 734 735 736 737\n",
      " 738 739 740 741 742 743 744 745 746 747 748 749 750 751 752 753 754 755\n",
      " 756 757 758 759 760 761 762 763 764 765 766 767 768 769 770 771 772 773\n",
      " 774 775 776 777 778 779 780 781 782 783 784 785 786 787 788 789 790 791\n",
      " 792 793 794 795 796 797 798 799 800 801 802 803 804 805 806 807 808 809\n",
      " 810 811 812 813 814 815 816 817 818 819 820 821 822 823 824 825 826 827\n",
      " 828 829 830 831 832 833 834 835 836 837 838 839 840 841 842 843 844 845\n",
      " 846 847 848 849 850 851 852 853 854 855 856 857 858 859 860 861 862 863\n",
      " 864 865 866 867 868 869 870 871 872 873 874 875 876 877 878 879 880 881\n",
      " 882 883 884 885 886 887 888 889 890]\n"
     ]
    }
   ],
   "source": [
    "print('index value: ', titanic_df.index.values)   # index 값을 반환하려면, .values를 붙여 줘야 한다. "
   ]
  },
  {
   "cell_type": "code",
   "execution_count": 20,
   "metadata": {},
   "outputs": [],
   "source": [
    "# 위를 보면 0부터 시작하는 ndarray다. "
   ]
  },
  {
   "cell_type": "code",
   "execution_count": 21,
   "metadata": {},
   "outputs": [],
   "source": [
    "### DataFrame에서 series 추출 및 DataFrame 필터링 추출"
   ]
  },
  {
   "cell_type": "code",
   "execution_count": 22,
   "metadata": {},
   "outputs": [],
   "source": [
    "# dataframe에서 seires가 뭐라고 했지? \n",
    "# 컬럼이 한 개 있는 1차원 데이터 셋이다. \n",
    "# 위에서 보면 데이터 컬럼이 많다. 이 중에서 원하는 컬럼만 추출해 보자. "
   ]
  },
  {
   "cell_type": "code",
   "execution_count": 23,
   "metadata": {},
   "outputs": [
    {
     "name": "stdout",
     "output_type": "stream",
     "text": [
      "0                              Braund, Mr. Owen Harris\n",
      "1    Cumings, Mrs. John Bradley (Florence Briggs Th...\n",
      "2                               Heikkinen, Miss. Laina\n",
      "Name: Name, dtype: object\n",
      "## type: <class 'pandas.core.series.Series'>\n",
      "                                                Name   Age\n",
      "0                            Braund, Mr. Owen Harris  22.0\n",
      "1  Cumings, Mrs. John Bradley (Florence Briggs Th...  38.0\n",
      "2                             Heikkinen, Miss. Laina  26.0\n",
      "## type: <class 'pandas.core.frame.DataFrame'>\n",
      "                                                Name\n",
      "0                            Braund, Mr. Owen Harris\n",
      "1  Cumings, Mrs. John Bradley (Florence Briggs Th...\n",
      "2                             Heikkinen, Miss. Laina\n",
      "## type: <class 'pandas.core.frame.DataFrame'>\n"
     ]
    }
   ],
   "source": [
    "# DataFrame객체에서 []연산자내에 한개의 컬럼만 입력하면 Series 객체를 반환, 즉 series가 추출된다.  \n",
    "series = titanic_df['Name']      # Name 컬럼을 가진 데이터를 추출해 주세요. \n",
    "print(series.head(3))             \n",
    "print(\"## type:\",type(series))   # type은 seires이다. \n",
    "\n",
    "# DataFrame객체에서 []연산자내에 여러 개의 컬럼을 리스트로 입력하면 그 컬럼들로 구성된 DataFrame 반환  \n",
    "# 두 개 이상의 컬럼을 리스트로 입력하면, 그 컬럼으로 구성된 데이터 프레임을 반환한다. \n",
    "filtered_df = titanic_df[['Name', 'Age']]    # 두 개 이상일 경우에는 [] 리스트 안에 [] bracket이 또 들어가야 한다. \n",
    "                                             # 리스트로 이것들을 만들어 줘야 한다. 그러면 Name과 Age를 가진 데이터 프레임이 반환된다.\n",
    "print(filtered_df.head(3))\n",
    "print(\"## type:\", type(filtered_df))\n",
    "\n",
    "# DataFrame 객체에서 []연산자 내에 한 개의 컬럼을 리스트로 입력하면 한 개의 컬럼으로 구성된 DataFrame 반환\n",
    "# 하나의 컬럼이지만, 아래와 같이 리스트로 감싸게 되면, series가 아니가 2차원을 가지는 데이터 프레임이 반환된다. \n",
    "one_col_df = titanic_df[['Name']]\n",
    "print(one_col_df.head(3))\n",
    "print(\"## type:\", type(one_col_df))"
   ]
  },
  {
   "cell_type": "code",
   "execution_count": 24,
   "metadata": {},
   "outputs": [],
   "source": [
    "# 위 세 행이 출력 값이다. \n",
    "# 그다음 type을 보면 series이다. 첫 번째는 series인 것이다.\n",
    "# 두 번째는 data type이다. 두 개의 컬럼을 가지는 이 데이터는 데이터 프레임이다. \n",
    "# 세 번째는, 브레킷 안에 리스트가 들어갔다. 컬럼이 하나지만 차원이 2차원이다. 즉 컬럼이 하나가 있다고 명시된 2차원 데이터 프레임이다. "
   ]
  },
  {
   "cell_type": "markdown",
   "metadata": {},
   "source": [
    "** shape ** DataFrame의 행(Row)와 열(Column) 크기를 가지고 있는 속성입니다."
   ]
  },
  {
   "cell_type": "code",
   "execution_count": 25,
   "metadata": {},
   "outputs": [],
   "source": [
    "# 데이터 크기를 확인할 수 있는 가장 간단한 방법은 .shape()을 수행하는 것이다. \n",
    "# 어떤 사람들은 이 데이터 프레임에 들어가 있는 row 건수가 몇 건인지 알기 위해 count를 쓰는데 shape()이 더 쉽게 알 수 있다. "
   ]
  },
  {
   "cell_type": "code",
   "execution_count": 26,
   "metadata": {},
   "outputs": [
    {
     "name": "stdout",
     "output_type": "stream",
     "text": [
      "DataFrame 크기:  (891, 12)\n"
     ]
    }
   ],
   "source": [
    "print('DataFrame 크기: ', titanic_df.shape)"
   ]
  },
  {
   "cell_type": "code",
   "execution_count": 27,
   "metadata": {},
   "outputs": [],
   "source": [
    "# (891, 12)는 rows 크기가 891, colunns의 크기가 12인 2차원 데이터 프레임이다. \n",
    "# 인덱스는 실제 컬럼에 포함이 되지 않는다. 확인을 해 봐라. 실제 확인을 해 보면 인덱스는 컬럼에 포함되어 있지 않음을 알 수 있다. "
   ]
  },
  {
   "cell_type": "code",
   "execution_count": 28,
   "metadata": {},
   "outputs": [],
   "source": [
    "# infp()와 describe()에 대해서 살펴 보자. "
   ]
  },
  {
   "cell_type": "markdown",
   "metadata": {},
   "source": [
    "info() DataFrame내의 컬럼명, 데이터 타입, Null건수, 데이터 건수 정보를 제공합니다."
   ]
  },
  {
   "cell_type": "code",
   "execution_count": 29,
   "metadata": {},
   "outputs": [
    {
     "name": "stdout",
     "output_type": "stream",
     "text": [
      "<class 'pandas.core.frame.DataFrame'>\n",
      "RangeIndex: 891 entries, 0 to 890\n",
      "Data columns (total 12 columns):\n",
      " #   Column       Non-Null Count  Dtype  \n",
      "---  ------       --------------  -----  \n",
      " 0   PassengerId  891 non-null    int64  \n",
      " 1   Survived     891 non-null    int64  \n",
      " 2   Pclass       891 non-null    int64  \n",
      " 3   Name         891 non-null    object \n",
      " 4   Sex          891 non-null    object \n",
      " 5   Age          714 non-null    float64\n",
      " 6   SibSp        891 non-null    int64  \n",
      " 7   Parch        891 non-null    int64  \n",
      " 8   Ticket       891 non-null    object \n",
      " 9   Fare         891 non-null    float64\n",
      " 10  Cabin        204 non-null    object \n",
      " 11  Embarked     889 non-null    object \n",
      "dtypes: float64(2), int64(5), object(5)\n",
      "memory usage: 83.7+ KB\n"
     ]
    }
   ],
   "source": [
    "titanic_df.info()"
   ]
  },
  {
   "cell_type": "code",
   "execution_count": 30,
   "metadata": {},
   "outputs": [],
   "source": [
    "# 위와 같이 info()는 data의 메타 데이터를 보여준다. \n",
    "# RangeIndex가 891개 건수가 891건이다. \n",
    "# columms은 total 12개 columns가 있다. \n",
    "# 컬럼 개수가 모두 동일하지가 않다. \n",
    "# Age를 보면, 714개이다. 891 - 714 = 177개는 age 값이 non-null이다. 널 값이다. \n",
    "# 그리고 오른쪽을 보면 datatype이 int64는 64bits int type이라는 말이다. object는 그냥 string 문자열로 이해하라. \n",
    "# 봐야 할 것은, 맨아래 memory usage이다. 판다스 데이터 프레임도 메모리에 올라간다. \n",
    "# 대용량 데이터를 로딩할 때는 pysical memory를 얼마나 사용하고 있는 늘 주시해야 한다. \n",
    "# 다음은 describe()를 살펴 보자. "
   ]
  },
  {
   "cell_type": "markdown",
   "metadata": {},
   "source": [
    "describe()\n",
    "데이터값들의 평균,표준편차,4분위 분포도를 제공합니다. 숫자형 컬럼들에 대해서 해당 정보를 제공합니다."
   ]
  },
  {
   "cell_type": "code",
   "execution_count": 31,
   "metadata": {},
   "outputs": [
    {
     "data": {
      "text/html": [
       "<div>\n",
       "<style scoped>\n",
       "    .dataframe tbody tr th:only-of-type {\n",
       "        vertical-align: middle;\n",
       "    }\n",
       "\n",
       "    .dataframe tbody tr th {\n",
       "        vertical-align: top;\n",
       "    }\n",
       "\n",
       "    .dataframe thead th {\n",
       "        text-align: right;\n",
       "    }\n",
       "</style>\n",
       "<table border=\"1\" class=\"dataframe\">\n",
       "  <thead>\n",
       "    <tr style=\"text-align: right;\">\n",
       "      <th></th>\n",
       "      <th>PassengerId</th>\n",
       "      <th>Survived</th>\n",
       "      <th>Pclass</th>\n",
       "      <th>Age</th>\n",
       "      <th>SibSp</th>\n",
       "      <th>Parch</th>\n",
       "      <th>Fare</th>\n",
       "    </tr>\n",
       "  </thead>\n",
       "  <tbody>\n",
       "    <tr>\n",
       "      <th>count</th>\n",
       "      <td>891.000000</td>\n",
       "      <td>891.000000</td>\n",
       "      <td>891.000000</td>\n",
       "      <td>714.000000</td>\n",
       "      <td>891.000000</td>\n",
       "      <td>891.000000</td>\n",
       "      <td>891.000000</td>\n",
       "    </tr>\n",
       "    <tr>\n",
       "      <th>mean</th>\n",
       "      <td>446.000000</td>\n",
       "      <td>0.383838</td>\n",
       "      <td>2.308642</td>\n",
       "      <td>29.699118</td>\n",
       "      <td>0.523008</td>\n",
       "      <td>0.381594</td>\n",
       "      <td>32.204208</td>\n",
       "    </tr>\n",
       "    <tr>\n",
       "      <th>std</th>\n",
       "      <td>257.353842</td>\n",
       "      <td>0.486592</td>\n",
       "      <td>0.836071</td>\n",
       "      <td>14.526497</td>\n",
       "      <td>1.102743</td>\n",
       "      <td>0.806057</td>\n",
       "      <td>49.693429</td>\n",
       "    </tr>\n",
       "    <tr>\n",
       "      <th>min</th>\n",
       "      <td>1.000000</td>\n",
       "      <td>0.000000</td>\n",
       "      <td>1.000000</td>\n",
       "      <td>0.420000</td>\n",
       "      <td>0.000000</td>\n",
       "      <td>0.000000</td>\n",
       "      <td>0.000000</td>\n",
       "    </tr>\n",
       "    <tr>\n",
       "      <th>25%</th>\n",
       "      <td>223.500000</td>\n",
       "      <td>0.000000</td>\n",
       "      <td>2.000000</td>\n",
       "      <td>20.125000</td>\n",
       "      <td>0.000000</td>\n",
       "      <td>0.000000</td>\n",
       "      <td>7.910400</td>\n",
       "    </tr>\n",
       "    <tr>\n",
       "      <th>50%</th>\n",
       "      <td>446.000000</td>\n",
       "      <td>0.000000</td>\n",
       "      <td>3.000000</td>\n",
       "      <td>28.000000</td>\n",
       "      <td>0.000000</td>\n",
       "      <td>0.000000</td>\n",
       "      <td>14.454200</td>\n",
       "    </tr>\n",
       "    <tr>\n",
       "      <th>75%</th>\n",
       "      <td>668.500000</td>\n",
       "      <td>1.000000</td>\n",
       "      <td>3.000000</td>\n",
       "      <td>38.000000</td>\n",
       "      <td>1.000000</td>\n",
       "      <td>0.000000</td>\n",
       "      <td>31.000000</td>\n",
       "    </tr>\n",
       "    <tr>\n",
       "      <th>max</th>\n",
       "      <td>891.000000</td>\n",
       "      <td>1.000000</td>\n",
       "      <td>3.000000</td>\n",
       "      <td>80.000000</td>\n",
       "      <td>8.000000</td>\n",
       "      <td>6.000000</td>\n",
       "      <td>512.329200</td>\n",
       "    </tr>\n",
       "  </tbody>\n",
       "</table>\n",
       "</div>"
      ],
      "text/plain": [
       "       PassengerId    Survived      Pclass         Age       SibSp  \\\n",
       "count   891.000000  891.000000  891.000000  714.000000  891.000000   \n",
       "mean    446.000000    0.383838    2.308642   29.699118    0.523008   \n",
       "std     257.353842    0.486592    0.836071   14.526497    1.102743   \n",
       "min       1.000000    0.000000    1.000000    0.420000    0.000000   \n",
       "25%     223.500000    0.000000    2.000000   20.125000    0.000000   \n",
       "50%     446.000000    0.000000    3.000000   28.000000    0.000000   \n",
       "75%     668.500000    1.000000    3.000000   38.000000    1.000000   \n",
       "max     891.000000    1.000000    3.000000   80.000000    8.000000   \n",
       "\n",
       "            Parch        Fare  \n",
       "count  891.000000  891.000000  \n",
       "mean     0.381594   32.204208  \n",
       "std      0.806057   49.693429  \n",
       "min      0.000000    0.000000  \n",
       "25%      0.000000    7.910400  \n",
       "50%      0.000000   14.454200  \n",
       "75%      0.000000   31.000000  \n",
       "max      6.000000  512.329200  "
      ]
     },
     "execution_count": 31,
     "metadata": {},
     "output_type": "execute_result"
    }
   ],
   "source": [
    "titanic_df.describe()"
   ]
  },
  {
   "cell_type": "code",
   "execution_count": 34,
   "metadata": {},
   "outputs": [],
   "source": [
    "# 위 Passengerld의 값은 무의미하다. Survived 카테고리도 생존이냐 사망이냐 0, 1로 보는 것이므로 카테고리성 컬럼이므로 무의미하다. \n",
    "# Pclass도 마찬가지다. 선실의 등급이므로, 1등급, 2등급, 3등급 이러므로 카테고리형일 뿐이다. \n",
    "# age 숫자형을 보면, 젊은 나이대 사람들이 많이 탔다는 걸 알 수 있다. 널 값은 빠져 있다. \n",
    "##\n",
    "# 다음의 value count도 굉장히 많이 쓴다. \n",
    "# 특정 컬럼의 테이터 값의 분포도를 확인하기 위해서 많이 쓴다. \n",
    "# 예를 들면 Pclass의 값이 0, 1, 2, 3이 있다면, 0 값으로 몇 개의 데이터가 있고, 1 값으로 몇 개의 데이터가 있고, \n",
    "# 이런 히스토그램을 볼 때, value count를 쓰면 쉽게 볼 수가 있다. \n",
    "# 그런데 유의할 것은, value_count()는 series 객체에서만 호출될 수 있다. \n",
    "# 그래서 반드시 DataFrame을 단일 컬럼으로 입력하여 Series로 변환한 뒤 호출해야 한다. \n",
    "# 데이터 프레임의 함수만 쓰면, 전체 컬럼에 대해서 집합 연산을 해 주는 게 보통이다. \n",
    "# 하지만 이 value_count()는 그렇게 되지 않는다. "
   ]
  },
  {
   "cell_type": "markdown",
   "metadata": {},
   "source": [
    "<!-- value_counts() \\\n",
    "동일한 개별 데이터 값이 몇 건이 있는지에 대한 정보를 제공합니다. \\\n",
    "즉 개별 데이터 값의 분포도를 제공합니다. \n",
    "주의할 점은 value_counts()는 Series객체에서만 호출 될 수 있으므로 \n",
    "반드시 DataFrame을 단일 컬럼으로 입력하여 Series로 변환한 뒤 호출합니다. -->"
   ]
  },
  {
   "cell_type": "markdown",
   "metadata": {},
   "source": [
    "value_counts()\n",
    "동일한 개별 데이터 값이 몇 건이 있는지에 대한 정보를 제공합니다. \n",
    "즉 개별 데이터 값의 분포도를 제공합니다. \n",
    "주의할 점은 value_counts()는 Series 객체에서만 호출 될 수 있으므로 \n",
    "반드시 DataFrame을 단일 컬럼으로 입력하여 Series로 변환한 뒤 호출합니다."
   ]
  },
  {
   "cell_type": "code",
   "execution_count": 35,
   "metadata": {},
   "outputs": [
    {
     "name": "stdout",
     "output_type": "stream",
     "text": [
      "3    491\n",
      "1    216\n",
      "2    184\n",
      "Name: Pclass, dtype: int64\n"
     ]
    }
   ],
   "source": [
    "value_counts = titanic_df['Pclass'].value_counts()    # Pclass에 대해서 보고 싶다면, series로 만들어서 호출한다.\n",
    "print(value_counts)"
   ]
  },
  {
   "cell_type": "code",
   "execution_count": 36,
   "metadata": {},
   "outputs": [],
   "source": [
    "# Pclass 3이 491개의 counts를 가지고 있고, 1이 216개, 2개 184개를 가지고 있다. \n",
    "# 한 가지 유의할 점은, 이것이 series인데, 맨 앞에 나와 있는 게 index다. \n",
    "# Pclass 값이기도 한데, value_counts()를 하면, 각각의 Pclass 값은 유일한 값이기 때문에, \n",
    "# 이것을 index로 사용한다. "
   ]
  },
  {
   "cell_type": "code",
   "execution_count": 37,
   "metadata": {},
   "outputs": [
    {
     "name": "stdout",
     "output_type": "stream",
     "text": [
      "<class 'pandas.core.series.Series'>\n"
     ]
    }
   ],
   "source": [
    "titanic_pclass = titanic_df['Pclass']\n",
    "print(type(titanic_pclass))"
   ]
  },
  {
   "cell_type": "code",
   "execution_count": 38,
   "metadata": {},
   "outputs": [
    {
     "data": {
      "text/plain": [
       "0    3\n",
       "1    1\n",
       "2    3\n",
       "3    1\n",
       "4    3\n",
       "Name: Pclass, dtype: int64"
      ]
     },
     "execution_count": 38,
     "metadata": {},
     "output_type": "execute_result"
    }
   ],
   "source": [
    "titanic_pclass.head()"
   ]
  },
  {
   "cell_type": "code",
   "execution_count": 39,
   "metadata": {},
   "outputs": [
    {
     "name": "stdout",
     "output_type": "stream",
     "text": [
      "<class 'pandas.core.series.Series'>\n",
      "3    491\n",
      "1    216\n",
      "2    184\n",
      "Name: Pclass, dtype: int64\n"
     ]
    }
   ],
   "source": [
    "value_counts = titanic_df['Pclass'].value_counts()    # value_counts()를 하면 반환이 되는데, \n",
    "print(type(value_counts))\n",
    "print(value_counts)"
   ]
  },
  {
   "cell_type": "code",
   "execution_count": null,
   "metadata": {},
   "outputs": [],
   "source": [
    "# value_counts()를 통해서 반환되는 값은 series이다. "
   ]
  },
  {
   "cell_type": "markdown",
   "metadata": {},
   "source": [
    "sort_values() by=정렬컬럼, ascending=True 또는 False로 오름차순/내림차순으로 정렬"
   ]
  },
  {
   "cell_type": "code",
   "execution_count": 42,
   "metadata": {},
   "outputs": [
    {
     "data": {
      "text/html": [
       "<div>\n",
       "<style scoped>\n",
       "    .dataframe tbody tr th:only-of-type {\n",
       "        vertical-align: middle;\n",
       "    }\n",
       "\n",
       "    .dataframe tbody tr th {\n",
       "        vertical-align: top;\n",
       "    }\n",
       "\n",
       "    .dataframe thead th {\n",
       "        text-align: right;\n",
       "    }\n",
       "</style>\n",
       "<table border=\"1\" class=\"dataframe\">\n",
       "  <thead>\n",
       "    <tr style=\"text-align: right;\">\n",
       "      <th></th>\n",
       "      <th>Name</th>\n",
       "      <th>Age</th>\n",
       "      <th>Pclass</th>\n",
       "    </tr>\n",
       "  </thead>\n",
       "  <tbody>\n",
       "    <tr>\n",
       "      <th>305</th>\n",
       "      <td>Allison, Master. Hudson Trevor</td>\n",
       "      <td>0.92</td>\n",
       "      <td>1</td>\n",
       "    </tr>\n",
       "    <tr>\n",
       "      <th>297</th>\n",
       "      <td>Allison, Miss. Helen Loraine</td>\n",
       "      <td>2.00</td>\n",
       "      <td>1</td>\n",
       "    </tr>\n",
       "    <tr>\n",
       "      <th>445</th>\n",
       "      <td>Dodge, Master. Washington</td>\n",
       "      <td>4.00</td>\n",
       "      <td>1</td>\n",
       "    </tr>\n",
       "    <tr>\n",
       "      <th>802</th>\n",
       "      <td>Carter, Master. William Thornton II</td>\n",
       "      <td>11.00</td>\n",
       "      <td>1</td>\n",
       "    </tr>\n",
       "    <tr>\n",
       "      <th>435</th>\n",
       "      <td>Carter, Miss. Lucile Polk</td>\n",
       "      <td>14.00</td>\n",
       "      <td>1</td>\n",
       "    </tr>\n",
       "    <tr>\n",
       "      <th>...</th>\n",
       "      <td>...</td>\n",
       "      <td>...</td>\n",
       "      <td>...</td>\n",
       "    </tr>\n",
       "    <tr>\n",
       "      <th>859</th>\n",
       "      <td>Razi, Mr. Raihed</td>\n",
       "      <td>NaN</td>\n",
       "      <td>3</td>\n",
       "    </tr>\n",
       "    <tr>\n",
       "      <th>863</th>\n",
       "      <td>Sage, Miss. Dorothy Edith \"Dolly\"</td>\n",
       "      <td>NaN</td>\n",
       "      <td>3</td>\n",
       "    </tr>\n",
       "    <tr>\n",
       "      <th>868</th>\n",
       "      <td>van Melkebeke, Mr. Philemon</td>\n",
       "      <td>NaN</td>\n",
       "      <td>3</td>\n",
       "    </tr>\n",
       "    <tr>\n",
       "      <th>878</th>\n",
       "      <td>Laleff, Mr. Kristo</td>\n",
       "      <td>NaN</td>\n",
       "      <td>3</td>\n",
       "    </tr>\n",
       "    <tr>\n",
       "      <th>888</th>\n",
       "      <td>Johnston, Miss. Catherine Helen \"Carrie\"</td>\n",
       "      <td>NaN</td>\n",
       "      <td>3</td>\n",
       "    </tr>\n",
       "  </tbody>\n",
       "</table>\n",
       "<p>891 rows × 3 columns</p>\n",
       "</div>"
      ],
      "text/plain": [
       "                                         Name    Age  Pclass\n",
       "305            Allison, Master. Hudson Trevor   0.92       1\n",
       "297              Allison, Miss. Helen Loraine   2.00       1\n",
       "445                 Dodge, Master. Washington   4.00       1\n",
       "802       Carter, Master. William Thornton II  11.00       1\n",
       "435                 Carter, Miss. Lucile Polk  14.00       1\n",
       "..                                        ...    ...     ...\n",
       "859                          Razi, Mr. Raihed    NaN       3\n",
       "863         Sage, Miss. Dorothy Edith \"Dolly\"    NaN       3\n",
       "868               van Melkebeke, Mr. Philemon    NaN       3\n",
       "878                        Laleff, Mr. Kristo    NaN       3\n",
       "888  Johnston, Miss. Catherine Helen \"Carrie\"    NaN       3\n",
       "\n",
       "[891 rows x 3 columns]"
      ]
     },
     "execution_count": 42,
     "metadata": {},
     "output_type": "execute_result"
    }
   ],
   "source": [
    "titanic_df.sort_values(by='Pclass', ascending=True)    # 인자로 by에 정렬하고자 하는 컬럼명을 입력한다. 오름차순은 True. \n",
    "                                                       # default는 오름차순이다. \n",
    "                                                       # 이렇게만 해 주면, Pclass를 기준으로 전체 데이터 프레임의 컬럼을 정렬한다. \n",
    "titanic_df[['Name','Age']].sort_values(by='Age')\n",
    "titanic_df[['Name','Age','Pclass']].sort_values(by=['Pclass','Age'])   # 첫 번째는 Pclass로 두 번째는 Age로 정렬. "
   ]
  },
  {
   "cell_type": "code",
   "execution_count": null,
   "metadata": {},
   "outputs": [],
   "source": [
    "# 그러면, Pclass로 정렬이 됐고 같은 Pclass 안에 Age가 오름차순으로 정렬됐다. "
   ]
  },
  {
   "cell_type": "code",
   "execution_count": null,
   "metadata": {},
   "outputs": [],
   "source": [
    "# 판다스의 데이터 프레임에 사용되는 기본적인 API에 대해서 학습을 했다. "
   ]
  }
 ],
 "metadata": {
  "kernelspec": {
   "display_name": "Python 3",
   "language": "python",
   "name": "python3"
  },
  "language_info": {
   "codemirror_mode": {
    "name": "ipython",
    "version": 3
   },
   "file_extension": ".py",
   "mimetype": "text/x-python",
   "name": "python",
   "nbconvert_exporter": "python",
   "pygments_lexer": "ipython3",
   "version": "3.8.5"
  }
 },
 "nbformat": 4,
 "nbformat_minor": 5
}
